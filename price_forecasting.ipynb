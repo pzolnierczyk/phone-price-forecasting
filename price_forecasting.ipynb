{
 "cells": [
  {
   "attachments": {},
   "cell_type": "markdown",
   "metadata": {},
   "source": [
    "## Forecasting with text mining\n",
    "\n",
    "#### Task description:\n",
    "***\n",
    "The goal is to prepare a PoC which predicts the price of used iPhones 11. As the data is web-scraped from an online marketplace, it was created by random people providing different and unstructured information in natural language. It also contains plenty of noise, like non-iPhone offers or multiple items sold through one advertisement. \n",
    "There are also multiple different kinds of iPhone 11, which is not directly indicated in the dataset and thus requires analysis of the provided description for each offer.  \n",
    "\n",
    "#### Task approach:\n",
    "***\n",
    "- Understanding and analysis of the original dataset\n",
    "- Dataset cleaning\n",
    "- Text mining to categorize offers into types of iPhones\n",
    "- Exploration of the cleaned dataset\n",
    "- Preparation of forecasting\n",
    "\n",
    "#### Data:\n",
    "***\n",
    "The data contains web-scraped information from an online marketplace OLX, more precisely offers in Polish created by users of this portal. Offers have details specified by their creators (mainly sellers), like offer titles, descriptions and state of items (condition).  \n",
    "The prices are expressed in PLN (1 EUR = ~4.5 PLN)."
   ]
  },
  {
   "cell_type": "code",
   "execution_count": 2,
   "metadata": {},
   "outputs": [],
   "source": [
    "import warnings\n",
    "warnings.filterwarnings(\"ignore\")\n",
    "import pandas as pd\n",
    "import numpy as np\n",
    "import itertools\n",
    "import statsmodels.api as sm\n",
    "from statsmodels.tsa.stattools import adfuller\n",
    "from statsmodels.graphics.tsaplots import plot_pacf\n",
    "from statsmodels.graphics.tsaplots import plot_acf\n",
    "import matplotlib.pyplot as plt\n",
    "warnings.resetwarnings()\n",
    "# import spacy\n",
    "# nlp = spacy.load('pl_core_news_sm')"
   ]
  },
  {
   "cell_type": "code",
   "execution_count": 3,
   "metadata": {},
   "outputs": [],
   "source": [
    "# Notebook params\n",
    "\n",
    "warnings.filterwarnings('ignore', 'statsmodels.tsa.arima_model.ARMA', FutureWarning)\n",
    "warnings.filterwarnings('ignore', 'statsmodels.tsa.arima_model.ARIMA', FutureWarning)\n",
    "\n",
    "plt.style.use('ggplot')\n",
    "plt.rcParams[\"figure.figsize\"] = (15,10)\n",
    "plt.rcParams.update({'font.size': 15})"
   ]
  },
  {
   "cell_type": "code",
   "execution_count": 5,
   "metadata": {},
   "outputs": [
    {
     "name": "stdout",
     "output_type": "stream",
     "text": [
      "Dataset shape: (5084, 13)\n"
     ]
    },
    {
     "data": {
      "text/html": [
       "<div>\n",
       "<style scoped>\n",
       "    .dataframe tbody tr th:only-of-type {\n",
       "        vertical-align: middle;\n",
       "    }\n",
       "\n",
       "    .dataframe tbody tr th {\n",
       "        vertical-align: top;\n",
       "    }\n",
       "\n",
       "    .dataframe thead th {\n",
       "        text-align: right;\n",
       "    }\n",
       "</style>\n",
       "<table border=\"1\" class=\"dataframe\">\n",
       "  <thead>\n",
       "    <tr style=\"text-align: right;\">\n",
       "      <th></th>\n",
       "      <th>http</th>\n",
       "      <th>voivodeship</th>\n",
       "      <th>scrap_time</th>\n",
       "      <th>name</th>\n",
       "      <th>price</th>\n",
       "      <th>brand</th>\n",
       "      <th>condition</th>\n",
       "      <th>offer_from</th>\n",
       "      <th>type</th>\n",
       "      <th>description</th>\n",
       "      <th>added_at</th>\n",
       "      <th>views</th>\n",
       "      <th>user_since</th>\n",
       "    </tr>\n",
       "  </thead>\n",
       "  <tbody>\n",
       "    <tr>\n",
       "      <th>0</th>\n",
       "      <td>https://www.olx.pl/oferta/iphone-11-64-jak-now...</td>\n",
       "      <td>pomorskie</td>\n",
       "      <td>2021-02-22 06:55:30</td>\n",
       "      <td>Iphone 11 64 jak nowy 95% gwarancja wyświetlacz</td>\n",
       "      <td>2799.0</td>\n",
       "      <td>iPhone</td>\n",
       "      <td>Używane</td>\n",
       "      <td>Osoby prywatnej</td>\n",
       "      <td>Sprawny</td>\n",
       "      <td>Jak nowy . Kondycja baterii 95%. Kupiony w med...</td>\n",
       "      <td>2021-02-22 00:09:00</td>\n",
       "      <td>37</td>\n",
       "      <td>2013-05-01 00:00:00</td>\n",
       "    </tr>\n",
       "    <tr>\n",
       "      <th>1</th>\n",
       "      <td>https://www.olx.pl/oferta/skup-uszkodzonych-te...</td>\n",
       "      <td>pomorskie</td>\n",
       "      <td>2021-02-22 06:55:34</td>\n",
       "      <td>Skup uszkodzonych telefonów iPhone xs xs max 1...</td>\n",
       "      <td>NaN</td>\n",
       "      <td>NaN</td>\n",
       "      <td>NaN</td>\n",
       "      <td>Firmy</td>\n",
       "      <td>NaN</td>\n",
       "      <td>Witam.  Kupię uszkodzone/ zablokowane/ zalane/...</td>\n",
       "      <td>2021-02-22 00:05:00</td>\n",
       "      <td>5242</td>\n",
       "      <td>2020-04-01 00:00:00</td>\n",
       "    </tr>\n",
       "    <tr>\n",
       "      <th>2</th>\n",
       "      <td>https://www.olx.pl/oferta/iphone-11-64-gb-czar...</td>\n",
       "      <td>pomorskie</td>\n",
       "      <td>2021-02-22 06:55:40</td>\n",
       "      <td>IPhone 11 64 GB czarny, idealny z gwarancją. W...</td>\n",
       "      <td>2700.0</td>\n",
       "      <td>iPhone</td>\n",
       "      <td>Używane</td>\n",
       "      <td>Osoby prywatnej</td>\n",
       "      <td>Sprawny</td>\n",
       "      <td>Witam! Mam na sprzedaż iPhone’a 11 w wersji 64...</td>\n",
       "      <td>2021-02-21 19:00:00</td>\n",
       "      <td>186</td>\n",
       "      <td>2014-12-01 00:00:00</td>\n",
       "    </tr>\n",
       "    <tr>\n",
       "      <th>3</th>\n",
       "      <td>https://www.olx.pl/oferta/iphone-11-CID99-IDIk...</td>\n",
       "      <td>pomorskie</td>\n",
       "      <td>2021-02-22 06:55:44</td>\n",
       "      <td>Iphone 11</td>\n",
       "      <td>3000.0</td>\n",
       "      <td>iPhone</td>\n",
       "      <td>Nowe</td>\n",
       "      <td>Osoby prywatnej</td>\n",
       "      <td>Sprawny</td>\n",
       "      <td>Nowy 128GB   Oryginalnie zapakowany kolor czar...</td>\n",
       "      <td>2021-02-21 18:24:00</td>\n",
       "      <td>250</td>\n",
       "      <td>2016-06-01 00:00:00</td>\n",
       "    </tr>\n",
       "    <tr>\n",
       "      <th>4</th>\n",
       "      <td>https://www.olx.pl/oferta/jak-nowy-apple-iphon...</td>\n",
       "      <td>pomorskie</td>\n",
       "      <td>2021-02-22 06:55:52</td>\n",
       "      <td>Jak Nowy Apple Iphone 11 256gbGB White Gwarancja</td>\n",
       "      <td>2899.0</td>\n",
       "      <td>iPhone</td>\n",
       "      <td>Używane</td>\n",
       "      <td>Firmy</td>\n",
       "      <td>Sprawny</td>\n",
       "      <td>Witaj.     Jesteśmy sklepem - serwisem z 12 le...</td>\n",
       "      <td>2021-02-21 17:38:00</td>\n",
       "      <td>845</td>\n",
       "      <td>2012-08-01 00:00:00</td>\n",
       "    </tr>\n",
       "  </tbody>\n",
       "</table>\n",
       "</div>"
      ],
      "text/plain": [
       "                                                http voivodeship  \\\n",
       "0  https://www.olx.pl/oferta/iphone-11-64-jak-now...   pomorskie   \n",
       "1  https://www.olx.pl/oferta/skup-uszkodzonych-te...   pomorskie   \n",
       "2  https://www.olx.pl/oferta/iphone-11-64-gb-czar...   pomorskie   \n",
       "3  https://www.olx.pl/oferta/iphone-11-CID99-IDIk...   pomorskie   \n",
       "4  https://www.olx.pl/oferta/jak-nowy-apple-iphon...   pomorskie   \n",
       "\n",
       "            scrap_time                                               name  \\\n",
       "0  2021-02-22 06:55:30    Iphone 11 64 jak nowy 95% gwarancja wyświetlacz   \n",
       "1  2021-02-22 06:55:34  Skup uszkodzonych telefonów iPhone xs xs max 1...   \n",
       "2  2021-02-22 06:55:40  IPhone 11 64 GB czarny, idealny z gwarancją. W...   \n",
       "3  2021-02-22 06:55:44                                          Iphone 11   \n",
       "4  2021-02-22 06:55:52   Jak Nowy Apple Iphone 11 256gbGB White Gwarancja   \n",
       "\n",
       "    price   brand condition       offer_from     type  \\\n",
       "0  2799.0  iPhone   Używane  Osoby prywatnej  Sprawny   \n",
       "1     NaN     NaN       NaN            Firmy      NaN   \n",
       "2  2700.0  iPhone   Używane  Osoby prywatnej  Sprawny   \n",
       "3  3000.0  iPhone      Nowe  Osoby prywatnej  Sprawny   \n",
       "4  2899.0  iPhone   Używane            Firmy  Sprawny   \n",
       "\n",
       "                                         description             added_at  \\\n",
       "0  Jak nowy . Kondycja baterii 95%. Kupiony w med...  2021-02-22 00:09:00   \n",
       "1  Witam.  Kupię uszkodzone/ zablokowane/ zalane/...  2021-02-22 00:05:00   \n",
       "2  Witam! Mam na sprzedaż iPhone’a 11 w wersji 64...  2021-02-21 19:00:00   \n",
       "3  Nowy 128GB   Oryginalnie zapakowany kolor czar...  2021-02-21 18:24:00   \n",
       "4  Witaj.     Jesteśmy sklepem - serwisem z 12 le...  2021-02-21 17:38:00   \n",
       "\n",
       "   views           user_since  \n",
       "0     37  2013-05-01 00:00:00  \n",
       "1   5242  2020-04-01 00:00:00  \n",
       "2    186  2014-12-01 00:00:00  \n",
       "3    250  2016-06-01 00:00:00  \n",
       "4    845  2012-08-01 00:00:00  "
      ]
     },
     "execution_count": 5,
     "metadata": {},
     "output_type": "execute_result"
    }
   ],
   "source": [
    "## Data reading\n",
    "org_data = pd.read_csv('data.csv')\n",
    "print('Dataset shape:', org_data.shape)\n",
    "org_data.head(5)"
   ]
  },
  {
   "attachments": {},
   "cell_type": "markdown",
   "metadata": {},
   "source": [
    "### Dataset exploration"
   ]
  },
  {
   "cell_type": "code",
   "execution_count": 8,
   "metadata": {},
   "outputs": [
    {
     "name": "stdout",
     "output_type": "stream",
     "text": [
      "              price          views\n",
      "count   4747.000000    5084.000000\n",
      "mean    2564.713467     763.351692\n",
      "std      900.714124    2722.697621\n",
      "min      100.000000       1.000000\n",
      "25%     2399.000000      68.000000\n",
      "50%     2689.000000     139.000000\n",
      "75%     2950.000000     476.000000\n",
      "max    12345.000000  121752.000000\n"
     ]
    },
    {
     "data": {
      "text/html": [
       "<div>\n",
       "<style scoped>\n",
       "    .dataframe tbody tr th:only-of-type {\n",
       "        vertical-align: middle;\n",
       "    }\n",
       "\n",
       "    .dataframe tbody tr th {\n",
       "        vertical-align: top;\n",
       "    }\n",
       "\n",
       "    .dataframe thead th {\n",
       "        text-align: right;\n",
       "    }\n",
       "</style>\n",
       "<table border=\"1\" class=\"dataframe\">\n",
       "  <thead>\n",
       "    <tr style=\"text-align: right;\">\n",
       "      <th></th>\n",
       "      <th>http</th>\n",
       "      <th>voivodeship</th>\n",
       "      <th>scrap_time</th>\n",
       "      <th>name</th>\n",
       "      <th>price</th>\n",
       "      <th>brand</th>\n",
       "      <th>condition</th>\n",
       "      <th>offer_from</th>\n",
       "      <th>type</th>\n",
       "      <th>description</th>\n",
       "      <th>added_at</th>\n",
       "      <th>views</th>\n",
       "      <th>user_since</th>\n",
       "    </tr>\n",
       "  </thead>\n",
       "  <tbody>\n",
       "    <tr>\n",
       "      <th>609</th>\n",
       "      <td>https://www.olx.pl/oferta/etui-samsung-a31-a51...</td>\n",
       "      <td>dolnoslaskie</td>\n",
       "      <td>2021-01-08 00:02:17</td>\n",
       "      <td>Etui samsung a31/a51 , iphone 11(pancer)</td>\n",
       "      <td>12345.0</td>\n",
       "      <td>NaN</td>\n",
       "      <td>Nowe</td>\n",
       "      <td>Osoby prywatnej</td>\n",
       "      <td>NaN</td>\n",
       "      <td>Etui Samsung-15 zł   iPhone -30 zł  Nówki sztu...</td>\n",
       "      <td>2021-01-07 12:35:00</td>\n",
       "      <td>78</td>\n",
       "      <td>2020-11-01 00:00:00</td>\n",
       "    </tr>\n",
       "  </tbody>\n",
       "</table>\n",
       "</div>"
      ],
      "text/plain": [
       "                                                  http   voivodeship  \\\n",
       "609  https://www.olx.pl/oferta/etui-samsung-a31-a51...  dolnoslaskie   \n",
       "\n",
       "              scrap_time                                      name    price  \\\n",
       "609  2021-01-08 00:02:17  Etui samsung a31/a51 , iphone 11(pancer)  12345.0   \n",
       "\n",
       "    brand condition       offer_from type  \\\n",
       "609   NaN      Nowe  Osoby prywatnej  NaN   \n",
       "\n",
       "                                           description             added_at  \\\n",
       "609  Etui Samsung-15 zł   iPhone -30 zł  Nówki sztu...  2021-01-07 12:35:00   \n",
       "\n",
       "     views           user_since  \n",
       "609     78  2020-11-01 00:00:00  "
      ]
     },
     "execution_count": 8,
     "metadata": {},
     "output_type": "execute_result"
    }
   ],
   "source": [
    "print(org_data.describe())\n",
    "org_data[org_data['price']>10000]"
   ]
  },
  {
   "attachments": {},
   "cell_type": "markdown",
   "metadata": {},
   "source": [
    "There are some small values present in the data set (price < 1000), but also some very big ones (>10.000). The standard price range of a few years old iPhones is over 1000 PLN, but less than 6000, thus values outside of this range do not make much sense. \n",
    "\n",
    "Review of these records showed that these are accessories (eg phone case), different phones or bulk offers. They will be filtered out as the focus is on iPhones 11 only."
   ]
  },
  {
   "cell_type": "code",
   "execution_count": 21,
   "metadata": {},
   "outputs": [
    {
     "name": "stdout",
     "output_type": "stream",
     "text": [
      "Unique rows with nulls: 677\n"
     ]
    },
    {
     "data": {
      "text/plain": [
       "http             0\n",
       "voivodeship      0\n",
       "scrap_time       0\n",
       "name             0\n",
       "price          337\n",
       "brand          466\n",
       "condition      131\n",
       "offer_from       0\n",
       "type           458\n",
       "description      0\n",
       "added_at         0\n",
       "views            0\n",
       "user_since       0\n",
       "dtype: int64"
      ]
     },
     "execution_count": 21,
     "metadata": {},
     "output_type": "execute_result"
    }
   ],
   "source": [
    "# Missing values\n",
    "print('Unique rows with nulls:', org_data[org_data.isnull().any(axis=1)].count()[0])\n",
    "org_data.isna().sum()"
   ]
  },
  {
   "attachments": {},
   "cell_type": "markdown",
   "metadata": {},
   "source": [
    "There are missing values in the dataset in price, brand, condition and type columns. While there are around 1400 missing values, they appear in less than 700 rows. This means that often there is more than one missing value per observation. \n",
    "\n",
    "This often happens with offers with accessories or with bulk ads, where they buy/sell multiple phones/items. Such offers need to be filtered out. Relevant information could be extracted from individual descriptions "
   ]
  },
  {
   "cell_type": "code",
   "execution_count": 22,
   "metadata": {},
   "outputs": [
    {
     "name": "stdout",
     "output_type": "stream",
     "text": [
      "Brand types: ['iPhone' nan 'Inne telefony gsm' 'Samsung' 'LG']\n",
      "Condition types: ['Używane' nan 'Nowe']\n",
      "['Sprawny' nan 'Uszkodzony' 'Męskie']\n"
     ]
    }
   ],
   "source": [
    "# Checking unique values of key columns\n",
    "print('Brand types:', org_data.brand.unique())\n",
    "print('Condition types:', org_data.condition.unique())\n",
    "print(org_data.type.unique())"
   ]
  },
  {
   "attachments": {},
   "cell_type": "markdown",
   "metadata": {},
   "source": [
    "Apart from used iPhones, the dataset contains new phones and also from other manufacturers.\n",
    "\n",
    "For this task we are interested in just used iPhones."
   ]
  },
  {
   "cell_type": "code",
   "execution_count": 24,
   "metadata": {},
   "outputs": [
    {
     "name": "stdout",
     "output_type": "stream",
     "text": [
      "             price\n",
      "count  2754.000000\n",
      "mean   2635.539887\n",
      "std     612.208260\n",
      "min     200.000000\n",
      "25%    2350.000000\n",
      "50%    2550.000000\n",
      "75%    2900.000000\n",
      "max    6000.000000\n"
     ]
    }
   ],
   "source": [
    "data = org_data[org_data.brand == 'iPhone']\n",
    "data = data[data.condition == 'Używane']\n",
    "data = data[data.type == 'Sprawny']\n",
    "data = data[~data.price.isna()]\n",
    "\n",
    "data['date'] = data['added_at'].str[:10]\n",
    "data = data.drop(columns='added_at')\n",
    "data = data[['name', 'price', 'brand', 'condition', 'type', 'description', 'date']].copy()\n",
    "\n",
    "print(data.describe())"
   ]
  },
  {
   "attachments": {},
   "cell_type": "markdown",
   "metadata": {},
   "source": [
    "Out of 5k records over 2k were not relevant. The dataset is not clean yet, as there are still other iPhones present (like 5s with the price of 200)."
   ]
  },
  {
   "attachments": {},
   "cell_type": "markdown",
   "metadata": {},
   "source": [
    "### Flagging models of phones"
   ]
  },
  {
   "cell_type": "code",
   "execution_count": 28,
   "metadata": {},
   "outputs": [
    {
     "name": "stdout",
     "output_type": "stream",
     "text": [
      "Iphone 11 64 jak nowy 95% gwarancja wyświetlacz \n",
      "\n",
      "IPhone 11 64 GB czarny, idealny z gwarancją. Wymiana \n",
      "\n",
      "Jak nowy . Kondycja baterii 95%. Kupiony w media markt . Posiadam faktury . Dodatkowa gwarancja na zbity wyświetlacz wartość 600zł . Dodatkowo szkło hartowane 5D oraz pokrowiec SPIGEN wartość 80zl. Nie sprzedaje za granice !! . Polecam \n",
      "\n",
      "Witam! Mam na sprzedaż iPhone’a 11 w wersji 64 GB. Telefon jest w stanie idealnym, wręcz jak nowym, ani jednej rysy ma przedzie l, rantach czy tyle. Posiada gwarancje do 17 września 2021 roku. Zakupiony w sieci play przez pierwszego właściciela, odkupiłem telefon jako nowy i wykonałem skany dokumentów osobiście. Zdjęć telefonu nie zamieściłem z powodu braku drugiego telefonu, jednakże wyglada on jak nowy. Założone jest szkło hartowane, lekko pęknięte chyba od kluczy w kieszeni natomiast ubrany jest w siwe etui Apple. Umieszczam screen gwarancji. Wszystkie dokumenty z pudełka i słuchawki nowe, nigdy nie wyjmowane. Bateria kondycja 100% \n",
      "\n"
     ]
    }
   ],
   "source": [
    "# Exemplary review of name and description fields - they have \n",
    "# the relevant information: model type, storage etc \n",
    "for field in ['name', 'description']:\n",
    "    for obs in data[field][:2]:\n",
    "        print(obs, '\\n')"
   ]
  },
  {
   "cell_type": "code",
   "execution_count": null,
   "metadata": {},
   "outputs": [],
   "source": []
  },
  {
   "attachments": {},
   "cell_type": "markdown",
   "metadata": {},
   "source": [
    "For many NLP tasks a good approach would be to use pretrained models. One of popular and well-working libraries is spacy, which offers a ready to use polish model(pl_core_news_sm). This is especially handy for semantic analysis, but also for any tasks that require natural language processing by computers.\n",
    "\n",
    "But in the case of iPhone the task can be done simpler. There are just a few types of them and using a sophisticated model is not necessarily required, as the results can be similar to text mining approach. This is especially true for a PoC. \n",
    "\n",
    "There are usually a few types of one iPhone model. In the case of iPhone 11, these are: standard model (11), 11 Pro and 11 Pro Max, with storages being one of [64, 128, 256, 512]. As this information is crucial when purchasing such phone, these names must be specified in the title/description of each offer."
   ]
  }
 ],
 "metadata": {
  "kernelspec": {
   "display_name": "Python 3",
   "language": "python",
   "name": "python3"
  },
  "language_info": {
   "codemirror_mode": {
    "name": "ipython",
    "version": 3
   },
   "file_extension": ".py",
   "mimetype": "text/x-python",
   "name": "python",
   "nbconvert_exporter": "python",
   "pygments_lexer": "ipython3",
   "version": "3.8.2"
  },
  "orig_nbformat": 4,
  "vscode": {
   "interpreter": {
    "hash": "aee8b7b246df8f9039afb4144a1f6fd8d2ca17a180786b69acc140d282b71a49"
   }
  }
 },
 "nbformat": 4,
 "nbformat_minor": 2
}
